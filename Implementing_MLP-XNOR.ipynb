{
 "cells": [
  {
   "cell_type": "markdown",
   "metadata": {},
   "source": [
    "The first part of the code imports the necessary libraries and sets the seed for the random number generator. Specifically, it imports numpy and matplotlib.pyplot libraries and sets the seed to 32."
   ]
  },
  {
   "cell_type": "code",
   "execution_count": 304,
   "metadata": {},
   "outputs": [],
   "source": [
    "import numpy as np\n",
    "import matplotlib.pyplot as plt\n",
    "\n",
    "np.random.seed(32)"
   ]
  },
  {
   "cell_type": "markdown",
   "metadata": {},
   "source": [
    "define a class ActFunction that serves as a base class for activation functions. It has two methods, run and gradient, which are not implemented in this class.\n",
    "\n",
    "Then, define six classes that inherit from ActFunction class, each implementing a different activation function. These activation functions are Tanh, Sigmoid, Softmax, ReLU, and Linear. Each of these classes implements the run and gradient methods with the corresponding activation function and its derivative."
   ]
  },
  {
   "cell_type": "code",
   "execution_count": 312,
   "metadata": {},
   "outputs": [],
   "source": [
    "class ActFunction:\n",
    "    def run(self, z):\n",
    "        pass\n",
    "    def gradient(self, z):\n",
    "        pass\n",
    "\n",
    "\n",
    "class Tanh(ActFunction):\n",
    "    def run(self, z):\n",
    "        return np.tanh(z)\n",
    "\n",
    "    def gradient(self, z):\n",
    "        return 1 - np.tanh(z)**2\n",
    "\n",
    "\n",
    "class Sigmoid(ActFunction):\n",
    "    def run(self, z):\n",
    "        return 1/(1+np.exp(-z))\n",
    "\n",
    "    def gradient(self, z):\n",
    "        return self.run(z) * (1 - self.run(z))\n",
    "\n",
    "\n",
    "class Softmax(ActFunction):\n",
    "    def run(self, z):\n",
    "        return np.exp(z)/np.sum(np.exp(z))\n",
    "\n",
    "    def gradient(self, z):\n",
    "        return self.run(z) * (1 - self.run(z))\n",
    "\n",
    "\n",
    "class ReLU(ActFunction):\n",
    "    def run(self, z):\n",
    "        zeros = np.zeros(shape=z.shape)\n",
    "        return np.maximum(zeros, z)\n",
    "\n",
    "    def gradient(self, z):\n",
    "        result = np.array(z > 0, dtype=np.float32)\n",
    "        return result\n",
    "\n",
    "\n",
    "class Linear(ActFunction):\n",
    "    def run(self, z):\n",
    "        return z\n",
    "\n",
    "    def gradient(self, z):\n",
    "        return 1"
   ]
  },
  {
   "cell_type": "markdown",
   "metadata": {},
   "source": [
    "Here define three classes: Loss, MSE, and CrossEntropy. The Loss class is an abstract base class that defines two methods: calculate and gradient. The MSE and CrossEntropy classes inherit from Loss and implement their own versions of calculate and gradient.\n",
    "\n",
    "The MSE class implements the mean squared error loss function, which is commonly used in regression problems. The calculate method computes the mean squared error between the true labels y and the predicted labels y_hat. The gradient method computes the gradient of the mean squared error with respect to y_hat.\n",
    "\n",
    "The CrossEntropy class implements the binary cross-entropy loss function, which is commonly used in binary classification problems. The calculate method computes the binary cross-entropy loss between the true labels y and the predicted probabilities y_hat. The gradient method computes the gradient of the binary cross-entropy with respect to y_hat."
   ]
  },
  {
   "cell_type": "code",
   "execution_count": 313,
   "metadata": {},
   "outputs": [],
   "source": [
    "class Loss:\n",
    "    def calculate(self, y, y_hat):\n",
    "        pass\n",
    "\n",
    "    def gradient(self, y, y_hat):\n",
    "        pass\n",
    "\n",
    "\n",
    "class MSE(Loss):\n",
    "    def calculate(self, y, y_hat):\n",
    "        return np.mean((y-y_hat)**2)/2\n",
    "\n",
    "    def gradient(self, y, y_hat):\n",
    "        return (y_hat-y)\n",
    "\n",
    "\n",
    "class CrossEntropy(Loss):\n",
    "    def calculate(self, y, y_hat):\n",
    "        epsilon = 1e-7  # Small constant to avoid log(0)\n",
    "\n",
    "        # Clip predicted probabilities to avoid log(0) or log(1)\n",
    "        y_pred = np.clip(y_hat, epsilon, 1 - epsilon)\n",
    "\n",
    "        # Compute individual terms of BCE loss\n",
    "        term_0 = (1 - y) * np.log(1 - y_pred)\n",
    "        term_1 = y * np.log(y_pred)\n",
    "\n",
    "        # Calculate overall loss\n",
    "        loss = -np.mean(term_0 + term_1)\n",
    "\n",
    "        return loss\n",
    "\n",
    "    def gradient(self, y, y_hat):\n",
    "        first_term = (1 - y) / (1 - y_hat)\n",
    "        second_term = -y / y_hat\n",
    "        return (first_term + second_term)"
   ]
  },
  {
   "cell_type": "markdown",
   "metadata": {},
   "source": [
    "Class FCLayer represents a fully connected layer in a neural network. The class has several attributes such as input_shape, output_shape, weights, biases, inputs, linear_outputs, learning_rate, and activation. It also has two methods, forward and backward.\n",
    "\n",
    "The forward method takes an input x, computes the dot product of the input with the weights, adds the biases, applies the activation function, and returns the output.\n",
    "\n",
    "The backward method takes the gradient of the next layer as input, computes the gradient of the current layer, updates the weights and biases, and returns the gradient of the input to the current layer.\n",
    "\n",
    "-------------------------------------\n",
    "\n",
    "Class MLPModel has four methods: init, add_layer, train, and inference.\n",
    "\n",
    "The init method initializes the model’s layers and loss function. The layers argument is a list of Layer objects that define the model’s architecture. The loss argument is a function that computes the loss between the model’s predictions and the true labels.\n",
    "\n",
    "The add_layer method adds a new layer to the model’s architecture.\n",
    "\n",
    "The train method trains the model on a given dataset. The x argument is a numpy array of input data, and y is a numpy array of true labels. The n_epochs argument specifies the number of epochs to train for. The show argument specifies whether to print the loss for each epoch. The method returns a list of the mean loss for each epoch.\n",
    "\n",
    "The inference method performs inference on a given dataset. The x argument is a numpy array of input data. The method returns a numpy array of the model’s predictions."
   ]
  },
  {
   "cell_type": "code",
   "execution_count": 338,
   "metadata": {},
   "outputs": [],
   "source": [
    "# Define a class FCLayer\n",
    "class FCLayer:\n",
    "    # Define the constructor\n",
    "    def __init__(self, inp_shape, out_shape, activation:ActFunction, learning_rate=0.01) -> None:\n",
    "        # Initialize the input shape, output shape, weights, biases, inputs, linear outputs, learning rate, and activation function\n",
    "        self.input_shape = inp_shape\n",
    "        self.output_shape = out_shape\n",
    "        self.weights = np.random.uniform(-1, 1, size=(self.output_shape, self.input_shape))\n",
    "        self.biases = np.random.uniform(-1, 1, size=(self.output_shape, 1))\n",
    "        self.inputs = None\n",
    "        self.linear_outputs = None\n",
    "        self.learning_rate = learning_rate\n",
    "        self.activation = activation()\n",
    "\n",
    "    # Define a method to perform the forward pass\n",
    "    def forward(self, x):\n",
    "        # Save the inputs\n",
    "        self.inputs = x\n",
    "        # Compute the linear outputs\n",
    "        z = np.dot(self.weights, x)\n",
    "        z = z + self.biases\n",
    "        self.linear_outputs = z\n",
    "        # Apply the activation function and return the output\n",
    "        output = self.activation.run(z)\n",
    "        return output\n",
    "\n",
    "    # Define a method to perform the backward pass\n",
    "    def backward(self, next_layer_gradient):\n",
    "        # Compute the gradient of the activation function\n",
    "        g = self.activation.gradient(self.linear_outputs)\n",
    "        # Compute the gradients of the weights and biases\n",
    "        dL_dW = np.dot((next_layer_gradient * g), self.inputs.reshape((1, self.input_shape)))\n",
    "        dL_db = next_layer_gradient * g\n",
    "        # Update the weights and biases\n",
    "        self.weights = self.weights - self.learning_rate * dL_dW\n",
    "        self.biases = self.biases - self.learning_rate * dL_db\n",
    "        # Compute the gradient of the input to this layer and return it\n",
    "        dL_da = np.dot(self.weights.T, next_layer_gradient * g)\n",
    "        return dL_da\n",
    "\n",
    "\n",
    "# Define a class MLPModel\n",
    "class MLPModel:\n",
    "    # Define the constructor\n",
    "    def __init__(self, layers=[], loss=MSE) -> None:\n",
    "        # Initialize the layers and loss\n",
    "        self.layers = layers\n",
    "        self.loss = loss()\n",
    "\n",
    "    # Define a method to add a layer\n",
    "    def add_layer(self, layer):\n",
    "        self.layers.append(layer)\n",
    "\n",
    "    # Define a method to train the model\n",
    "    def train(self, x, y, n_epochs, show=True):\n",
    "        # Initialize the losses list\n",
    "        losses = []\n",
    "        # Loop over the epochs\n",
    "        for epoch in range(n_epochs):\n",
    "            # Initialize the loss list for this epoch\n",
    "            lo = []\n",
    "            # Loop over the training data\n",
    "            for i, xi in enumerate(x):\n",
    "                # Forward pass through the layers\n",
    "                for l in self.layers:\n",
    "                    xi = l.forward(xi)\n",
    "                # Calculate the gradient and loss\n",
    "                grad = self.loss.gradient(y[i], xi)\n",
    "                loss = self.loss.calculate(y[i], xi)\n",
    "                # Append the loss to the loss list\n",
    "                lo.append(loss)\n",
    "                # Backward pass through the layers\n",
    "                for l in self.layers[::-1]:\n",
    "                    grad = l.backward(grad)\n",
    "            # Append the mean loss for this epoch to the losses list\n",
    "            losses.append(np.array(lo).mean())\n",
    "            # Print the mean loss for this epoch if show is True\n",
    "            if show:\n",
    "                print(f'{epoch}  loss: {np.array(lo).mean()}')\n",
    "        # Return the losses list\n",
    "        return losses\n",
    "\n",
    "    # Define a method to perform inference\n",
    "    def inference(self, x):\n",
    "        # Initialize the output list\n",
    "        output = []\n",
    "        # Loop over the input data\n",
    "        for xi in x:\n",
    "            # Forward pass through the layers\n",
    "            for l in self.layers:\n",
    "                xi = l.forward(xi)\n",
    "            # Append the output to the output list\n",
    "            output.append(xi)\n",
    "        # Return the output as a numpy array\n",
    "        return np.array(output)\n"
   ]
  },
  {
   "cell_type": "code",
   "execution_count": 339,
   "metadata": {},
   "outputs": [],
   "source": [
    "# Create an instance of the MLPModel class\n",
    "model = MLPModel()\n",
    "\n",
    "# Create four instances of the FCLayer class with different input and output shapes and the Tanh activation function\n",
    "l1 = FCLayer(2, 8, Tanh)\n",
    "l2 = FCLayer(8, 4, Tanh)\n",
    "l3 = FCLayer(4, 2, Tanh)\n",
    "l4 = FCLayer(2, 1, Tanh)\n",
    "\n",
    "# Add the four layers to the MLPModel instance\n",
    "model.add_layer(l1)\n",
    "model.add_layer(l2)\n",
    "model.add_layer(l3)\n",
    "model.add_layer(l4)\n"
   ]
  },
  {
   "cell_type": "code",
   "execution_count": 340,
   "metadata": {},
   "outputs": [],
   "source": [
    "x = np.array([[[-1], [-1]], [[-1], [1]], [[1], [-1]], [[1], [1]]])\n",
    "y = np.array([[[1]], [[-1]], [[-1]], [[1]]])\n",
    "\n",
    "losses = model.train(x, y, 1000, show=False)"
   ]
  },
  {
   "cell_type": "markdown",
   "metadata": {},
   "source": [
    "## Illustrating the loss"
   ]
  },
  {
   "cell_type": "code",
   "execution_count": 342,
   "metadata": {},
   "outputs": [
    {
     "data": {
      "text/plain": [
       "[<matplotlib.lines.Line2D at 0x7fe675465f30>]"
      ]
     },
     "execution_count": 342,
     "metadata": {},
     "output_type": "execute_result"
    },
    {
     "data": {
      "image/png": "[encoded data removed]",
      "text/plain": [
       "<Figure size 640x480 with 1 Axes>"
      ]
     },
     "metadata": {},
     "output_type": "display_data"
    }
   ],
   "source": [
    "\n",
    "plt.plot(range(len(losses)), losses)"
   ]
  },
  {
   "cell_type": "markdown",
   "metadata": {},
   "source": [
    "## Measuring the accuracy"
   ]
  },
  {
   "cell_type": "code",
   "execution_count": 344,
   "metadata": {},
   "outputs": [
    {
     "name": "stdout",
     "output_type": "stream",
     "text": [
      "accuracy: \n"
     ]
    },
    {
     "data": {
      "text/plain": [
       "1.0"
      ]
     },
     "execution_count": 344,
     "metadata": {},
     "output_type": "execute_result"
    }
   ],
   "source": [
    "x_test = np.array([[[1], [-1]], [[-1], [1]], [[1], [1]], [[-1], [-1]]])\n",
    "y_test = np.array([[[-1]], [[-1]], [[1]], [[1]]])\n",
    "\n",
    "inference = model.inference(x_test)\n",
    "inference = np.sign(inference)\n",
    "print('accuracy: ')\n",
    "(inference == y_test).sum() / len(y_test)"
   ]
  }
 ],
 "metadata": {
  "kernelspec": {
   "display_name": "ci",
   "language": "python",
   "name": "python3"
  },
  "language_info": {
   "codemirror_mode": {
    "name": "ipython",
    "version": 3
   },
   "file_extension": ".py",
   "mimetype": "text/x-python",
   "name": "python",
   "nbconvert_exporter": "python",
   "pygments_lexer": "ipython3",
   "version": "3.10.13"
  },
  "orig_nbformat": 4
 },
 "nbformat": 4,
 "nbformat_minor": 2
}
