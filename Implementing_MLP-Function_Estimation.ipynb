{
 "cells": [
  {
   "cell_type": "code",
   "execution_count": 28,
   "metadata": {},
   "outputs": [],
   "source": [
    "import numpy as np\n",
    "import matplotlib.pyplot as plt\n",
    "\n",
    "np.random.seed(0)"
   ]
  },
  {
   "cell_type": "markdown",
   "metadata": {},
   "source": [
    "The code defines a set of classes that represent layers in a neural network. Each class has methods for forward propagation, backward propagation, and updating parameters.\n",
    "\n",
    "1. Layer: This is the base class for all other layers. It includes methods for forward and backward propagation, as well as a method to update the layer’s parameters. The backward method calculates the gradient and updates the parameters accordingly. If the clip attribute is set to True, the gradients are clipped between -1e9 and 1e9 to prevent exploding gradients.\n",
    "\n",
    "2. LinearLayer: This class inherits from the Layer class and represents a fully connected layer in a neural network. It initializes weight and bias parameters randomly. The forward method calculates the dot product of the input and the weights, adds the bias, and applies clipping if necessary. The update method adjusts the weights and biases based on the learning rate and the gradient.\n",
    "\n",
    "3. ReLULayer: This class also inherits from the Layer class and implements the Rectified Linear Unit (ReLU) activation function. The forward method applies the ReLU function to the input, and the gradient method returns a binary mask indicating where the input was greater than 0.\n",
    "\n",
    "4. LeakyReLULayer: This class is similar to the ReLULayer but implements the Leaky ReLU activation function, which allows a small gradient when the unit is not active.\n",
    "\n",
    "5. PReLULayer: This class implements the Parametric ReLU activation function, which allows the negative slope to be learned. Unlike Leaky ReLU, the negative slope of the PReLU activation function is a learnable parameter."
   ]
  },
  {
   "cell_type": "code",
   "execution_count": 29,
   "metadata": {},
   "outputs": [],
   "source": [
    "class Layer:\n",
    "    def __init__(self, clip=False) -> None:  # Constructor for the Layer class, initializes the clip attribute\n",
    "        self.clip = clip  # If True, gradients will be clipped between -1e9 and 1e9\n",
    "    def forward(self, x):  # Forward propagation method, to be implemented by subclasses\n",
    "        pass\n",
    "    def backward(self, next_gradient):  # Backward propagation method\n",
    "        g = self.gradient()  # Calculate the gradient\n",
    "        self.update(next_gradient)  # Update the parameters based on the gradient\n",
    "        if g.shape == next_gradient.shape:  # If the shapes of the gradient and next_gradient match\n",
    "            if self.clip:  # If clipping is enabled\n",
    "                return np.clip(g * next_gradient, -1e9, 1e9)  # Return the clipped product of the gradient and next_gradient\n",
    "            return g * next_gradient  # Otherwise, return the product of the gradient and next_gradient\n",
    "        else:  # If the shapes of the gradient and next_gradient do not match\n",
    "            z = np.dot(g, next_gradient)  # Calculate the dot product of the gradient and next_gradient\n",
    "            if self.clip:  # If clipping is enabled\n",
    "                return  np.clip(z, -1e9, 1e9)  # Return the clipped dot product\n",
    "            return z  # Otherwise, return the dot product\n",
    "    def update(self, next_gradient):  # Method to update the parameters, to be implemented by subclasses\n",
    "        pass\n",
    "    def gradient(self):  # Method to calculate the gradient, to be implemented by subclasses\n",
    "        pass\n",
    "\n",
    "\n",
    "class LinearLayer(Layer):  # LinearLayer class, inherits from the Layer class\n",
    "    def __init__(self, in_feature, out_feature, lr=0.01, clip=False) -> None:  # Constructor for the LinearLayer class\n",
    "        super().__init__(clip=clip)  # Call the constructor of the superclass\n",
    "        self.shape = (out_feature, in_feature)  # Set the shape of the weight matrix\n",
    "        self.W = np.random.uniform(-1, 1, self.shape)  # Initialize the weight matrix with random values\n",
    "        self.B = np.random.uniform(-1, 1, (self.shape[0], 1))  # Initialize the bias vector with random values\n",
    "        self.lr = lr  # Set the learning rate\n",
    "        self.inputs = None  # Initialize the inputs attribute\n",
    "\n",
    "    def forward(self, x):  # Forward propagation method\n",
    "        if len(x.shape) < 2:  # If the input is a 1D array\n",
    "            x = x.reshape(x.shape + (1,))  # Reshape it to a 2D array\n",
    "        self.inputs = x  # Store the input\n",
    "        z = np.dot(self.W, x) + self.B  # Calculate the output\n",
    "        if self.clip:  # If clipping is enabled\n",
    "            return np.clip(z, -1e9, 1e9)  # Return the clipped output\n",
    "        return z  # Otherwise, return the output\n",
    "\n",
    "    def update(self, next_gradient):  # Method to update the parameters\n",
    "        self.W = self.W - self.lr * np.dot(next_gradient, self.inputs.T)  # Update the weights\n",
    "        self.B = self.B - self.lr * next_gradient  # Update the biases\n",
    "\n",
    "    def gradient(self):  # Method to calculate the gradient\n",
    "        return self.W.T  # Return the transpose of the weight matrix\n",
    "\n",
    "\n",
    "class ReLULayer(Layer):  # ReLULayer class, inherits from the Layer class\n",
    "    def __init__(self, clip=False) -> None:  # Constructor for the ReLULayer class\n",
    "        super().__init__(clip)  # Call the constructor of the superclass\n",
    "    def forward(self, x):  # Forward propagation method\n",
    "        self.inputs = x  # Store the input\n",
    "        z = np.minimum(1e9, np.maximum(0, x))  # Apply the ReLU function to the input\n",
    "        if self.clip:  # If clipping is enabled\n",
    "            return np.clip(z, -1e9, 1e9)  # Return the clipped output\n",
    "        return z  # Otherwise, return the output\n",
    "\n",
    "    def gradient(self):  # Method to calculate the gradient\n",
    "        g = np.where(self.inputs > 0, 1, 0)  # Calculate the gradient of the ReLU function\n",
    "        return g  # Return the gradient\n",
    "\n",
    "\n",
    "class LeakyReLULayer(Layer):  # LeakyReLULayer class, inherits from the Layer class\n",
    "    def __init__(self, negative_slop=0.01, clip=False) -> None:  # Constructor for the LeakyReLULayer class\n",
    "        super().__init__(clip=clip)  # Call the constructor of the superclass\n",
    "        self.negative_slop = negative_slop  # Set the negative slope for the Leaky ReLU function\n",
    "        self.inputs = None  # Initialize the inputs attribute\n",
    "\n",
    "    def forward(self, x):  # Forward propagation method\n",
    "        self.inputs = x  # Store the input\n",
    "        f = np.maximum(0, x) + self.negative_slop * np.minimum(0, x)  # Apply the Leaky ReLU function to the input\n",
    "        if self.clip:  # If clipping is enabled\n",
    "            return np.clip(f, -1e9, 1e9)  # Return the clipped output\n",
    "        return f  # Otherwise, return the output\n",
    "\n",
    "    def gradient(self):  # Method to calculate the gradient\n",
    "        g = np.where(self.inputs > 0, 1, self.negative_slop)  # Calculate the gradient of the Leaky ReLU function\n",
    "        return g  # Return the gradient\n",
    "\n",
    "\n",
    "class PReLULayer(Layer):  # PReLULayer class, inherits from the Layer class\n",
    "    def __init__(self, out_feature, lr=0.001, clip=False) -> None:  # Constructor for the PReLULayer class\n",
    "        super().__init__(clip=clip)  # Call the constructor of the superclass\n",
    "        self.shape = (out_feature, 1)  # Set the shape of the parameter vector\n",
    "        self.params = np.random.uniform(0, 1, self.shape)  # Initialize the parameter vector with random values\n",
    "        self.lr = lr  # Set the learning rate\n",
    "        self.inputs = None  # Initialize the inputs attribute\n",
    "\n",
    "    def forward(self, x):  # Forward propagation method\n",
    "        self.inputs = x  # Store the input\n",
    "        f = np.maximum(0, x) + self.params * np.minimum(0, x)  # Apply the PReLU function to the input\n",
    "        if self.clip:  # If clipping is enabled\n",
    "            return np.clip(f, -1e9, 1e9)  # Return the clipped output\n",
    "        return f  # Otherwise, return the output\n",
    "\n",
    "    def update(self, next_gradient):  # Method to update the parameters\n",
    "        mask = self.inputs < 0  # Create a mask where the input is less than 0\n",
    "        self.params = self.params - self.lr * (mask * self.inputs) * next_gradient  # Update the parameters\n",
    "\n",
    "    def gradient(self):  # Method to calculate the gradient\n",
    "        ones = np.ones(self.shape)  # Create a matrix of ones with the same shape as the parameters\n",
    "        zeros = np.zeros(self.shape)  # Create a matrix of zeros with the same shape as the parameters\n",
    "        g = np.where(self.inputs > zeros, ones, self.params)  # Calculate the gradient of the PReLU function\n",
    "        return g  # Return the gradient\n"
   ]
  },
  {
   "cell_type": "markdown",
   "metadata": {},
   "source": [
    "The provided code defines a class `MSE` for the Mean Squared Error (MSE) loss function, which is commonly used in regression problems. Here's a summary:\n",
    "\n",
    "1. `__init__(self, clip=False)`: This is the constructor method for the `MSE` class. It initializes an instance of the class and sets the `clip` attribute. If `clip` is set to `True`, the error will be clipped between `-1e9` and `1e9`.\n",
    "\n",
    "2. `calculate(self, y, y_hat)`: This method calculates the MSE loss between the true values `y` and the predicted values `y_hat`. The loss is calculated as the mean of the squared differences between `y` and `y_hat`, divided by 2. If `clip` is `True`, the differences are clipped between `-1e9` and `1e9` before squaring.\n",
    "\n",
    "3. `gradient(self, y, y_hat)`: This method calculates the gradient of the MSE loss with respect to the predicted values `y_hat`. The gradient is simply the difference between the predicted values `y_hat` and the true values `y`.\n",
    "\n",
    "This class provides a simple and efficient way to calculate the MSE loss and its gradient, which are essential for training regression models using gradient-based optimization methods. The option to clip the error can be useful in scenarios where the error can become very large, which could lead to numerical instability."
   ]
  },
  {
   "cell_type": "code",
   "execution_count": 30,
   "metadata": {},
   "outputs": [],
   "source": [
    "class MSE:  # Define a class for Mean Squared Error (MSE) loss function\n",
    "    def __init__(self, clip=False) -> None:  # Constructor for the MSE class, initializes the clip attribute\n",
    "        self.clip = clip  # If True, the error will be clipped between -1e9 and 1e9\n",
    "\n",
    "    def calculate(self, y, y_hat):  # Method to calculate the MSE loss\n",
    "        z = y - y_hat  # Calculate the difference between the true values and the predicted values\n",
    "        if self.clip:  # If clipping is enabled\n",
    "            return np.mean(np.clip(z, -1e9, 1e9)**2) / 2  # Return the mean of the squared clipped differences divided by 2\n",
    "        return np.mean(z**2) / 2  # Otherwise, return the mean of the squared differences divided by 2\n",
    "\n",
    "    def gradient(self, y, y_hat):  # Method to calculate the gradient of the MSE loss\n",
    "        return (y_hat-y)  # Return the difference between the predicted values and the true values\n"
   ]
  },
  {
   "cell_type": "markdown",
   "metadata": {},
   "source": [
    "The provided code defines a class MLPModel for a Multilayer Perceptron (MLP), a type of feedforward artificial neural network. Here’s a summary:\n",
    "\n",
    "1. __init__(self, loss, clip=False): This is the constructor method for the MLPModel class. It initializes an instance of the class, sets the clip attribute, and assigns the loss function.\n",
    "\n",
    "2. add_layer(self, l): This method adds a layer to the neural network. The layer l is appended to the list of layers.\n",
    "\n",
    "3. train(self, x, y, n_epochs, show=False): This method trains the model on the input data x with labels y for n_epochs epochs. For each epoch, it performs forward propagation through each layer, calculates the loss and its gradient, and performs backward propagation through each layer in reverse order. The method returns a list of the average loss for each epoch.\n",
    "\n",
    "4. inference(self, x): This method performs inference on the input data x. It propagates the input through each layer of the network and returns the output."
   ]
  },
  {
   "cell_type": "code",
   "execution_count": 31,
   "metadata": {},
   "outputs": [],
   "source": [
    "class MLPModel:  # Define a class for a Multilayer Perceptron (MLP) model\n",
    "    def __init__(self, loss, clip=False) -> None:  # Constructor for the MLPModel class\n",
    "        self.layers = []  # Initialize an empty list to store the layers of the model\n",
    "        self.clip = clip  # If True, gradients will be clipped between -1e9 and 1e9\n",
    "        self.loss = loss(self.clip)  # Initialize the loss function for the model\n",
    "\n",
    "    def add_layer(self, l):  # Method to add a layer to the model\n",
    "        self.layers.append(l)  # Append the layer to the list of layers\n",
    "\n",
    "    def train(self, x, y, n_epochs, show=False):  # Method to train the model\n",
    "        losses = []  # Initialize an empty list to store the loss for each epoch\n",
    "        for e in range(n_epochs):  # Loop over each epoch\n",
    "            running_loss = 0  # Initialize a variable to store the running loss for each epoch\n",
    "            for i, xi in enumerate(x):  # Loop over each sample in the input data\n",
    "                for l in self.layers:  # Loop over each layer in the model\n",
    "                    xi = l.forward(xi)  # Perform forward propagation through the layer\n",
    "                grad = self.loss.gradient(y[i], xi)  # Calculate the gradient of the loss\n",
    "                loss = self.loss.calculate(y[i], xi)  # Calculate the loss\n",
    "                running_loss += loss  # Add the loss to the running loss\n",
    "                for l in self.layers[::-1]:  # Loop over each layer in the model in reverse order\n",
    "                    grad = l.backward(grad)  # Perform backward propagation through the layer\n",
    "            losses.append(running_loss / len(x))  # Append the average loss for the epoch to the list of losses\n",
    "            if show:  # If the show parameter is True\n",
    "                print(f'{e}  loss: {losses[-1]}')  # Print the epoch number and the loss\n",
    "        return losses  # Return the list of losses\n",
    "\n",
    "    def inference(self, x):  # Method to perform inference with the model\n",
    "        output = []  # Initialize an empty list to store the output\n",
    "        for xi in x:  # Loop over each sample in the input data\n",
    "            for l in self.layers:  # Loop over each layer in the model\n",
    "                xi = l.forward(xi)  # Perform forward propagation through the layer\n",
    "            output.append(xi)  # Append the output of the model to the list of outputs\n",
    "        return np.array(output)  # Return the outputs as a numpy array\n"
   ]
  },
  {
   "cell_type": "markdown",
   "metadata": {},
   "source": [
    "The provided code is creating an instance of the `MLPModel` with the Mean Squared Error (MSE) loss function and gradient clipping enabled. It then defines a list of layers for the model:\n",
    "\n",
    "1. A `LinearLayer` that takes 1 input feature and outputs 32 features.\n",
    "2. A `ReLULayer` which applies the Rectified Linear Unit (ReLU) activation function to its inputs.\n",
    "3. Another `LinearLayer` that takes the 32 output features from the ReLU layer and outputs 1 feature.\n",
    "\n",
    "These layers are then added to the model using the `add_layer` method. This setup is typical for a simple feed-forward neural network model used in regression tasks, where the goal is to predict a single continuous value (hence the final `LinearLayer` with 1 output feature). The use of the ReLU activation function allows the model to learn non-linear relationships in the data. The gradient clipping helps in stabilizing the training by limiting the values of gradients to the range `-1e9` to `1e9` to prevent the exploding gradient problem. This model is now ready to be trained using the `train` method of the `MLPModel` class."
   ]
  },
  {
   "cell_type": "code",
   "execution_count": 32,
   "metadata": {},
   "outputs": [],
   "source": [
    "model = MLPModel(MSE, True)  # Create an instance of the MLPModel class with MSE as the loss function and gradient clipping enabled\n",
    "layers = [  # Define a list of layers for the model\n",
    "    LinearLayer(1, 32),  # A LinearLayer that takes 1 input feature and outputs 32 features\n",
    "    ReLULayer(),  # A ReLULayer which applies the Rectified Linear Unit (ReLU) activation function to its inputs\n",
    "    LinearLayer(32, 1)  # Another LinearLayer that takes the 32 output features from the ReLU layer and outputs 1 feature\n",
    "]\n",
    "\n",
    "for l in layers:  # Loop over each layer in the list\n",
    "    model.add_layer(l)  # Add the layer to the model\n"
   ]
  },
  {
   "cell_type": "code",
   "execution_count": 33,
   "metadata": {},
   "outputs": [
    {
     "name": "stdout",
     "output_type": "stream",
     "text": [
      "[[-4.]] [[16.]]\n"
     ]
    }
   ],
   "source": [
    "x_train = np.linspace(-4, 4, 2000).reshape(-1, 1, 1)  # Generate 2000 evenly spaced values between -4 and 4, and reshape them into a 3D array with shape (-1, 1, 1)\n",
    "y_train = x_train ** 2  # Calculate the square of each value in x_train to create the y_train dataset\n",
    "assert x_train[0] ** 2 == y_train[0]  # Assert that the first value in y_train is indeed the square of the first value in x_train\n",
    "print(x_train[0], y_train[0])  # Print the first values of x_train and y_train\n"
   ]
  },
  {
   "cell_type": "code",
   "execution_count": 34,
   "metadata": {},
   "outputs": [
    {
     "name": "stdout",
     "output_type": "stream",
     "text": [
      "0  loss: 0.16712997990778405\n",
      "1  loss: 0.06176267667455405\n",
      "2  loss: 0.12109848181082922\n",
      "3  loss: 0.02486948874465661\n",
      "4  loss: 0.010570017503734819\n",
      "5  loss: 0.018351822836553063\n",
      "6  loss: 0.010729812342550087\n",
      "7  loss: 0.01175006009662997\n",
      "8  loss: 0.013235802273878971\n",
      "9  loss: 0.015819214557756495\n",
      "10  loss: 0.016363960106294276\n",
      "11  loss: 0.014890096100905853\n",
      "12  loss: 0.014215502616227492\n",
      "13  loss: 0.012517458512272851\n",
      "14  loss: 0.011152660958108556\n",
      "15  loss: 0.009748770975440524\n",
      "16  loss: 0.008757292434478574\n",
      "17  loss: 0.007848989388384839\n",
      "18  loss: 0.00732286814569312\n",
      "19  loss: 0.006920000095949516\n",
      "20  loss: 0.006644718035489593\n",
      "21  loss: 0.007138611437352459\n",
      "22  loss: 0.007035505062778509\n",
      "23  loss: 0.006673957575857286\n",
      "24  loss: 0.006558852738628356\n",
      "25  loss: 0.006805087722711457\n",
      "26  loss: 0.0069655914656508045\n",
      "27  loss: 0.00705774448347951\n",
      "28  loss: 0.007317905381148071\n",
      "29  loss: 0.007143764311006737\n",
      "30  loss: 0.007051358955265522\n",
      "31  loss: 0.007287958280589533\n",
      "32  loss: 0.007006336334678382\n",
      "33  loss: 0.006850078211872394\n",
      "34  loss: 0.007157939458363096\n",
      "35  loss: 0.006862566164529247\n",
      "36  loss: 0.00634202398811888\n",
      "37  loss: 0.0064326735478614444\n",
      "38  loss: 0.006279062861906133\n",
      "39  loss: 0.005810941738645293\n",
      "40  loss: 0.005836526189728548\n",
      "41  loss: 0.00586720705064415\n",
      "42  loss: 0.00565173220076283\n",
      "43  loss: 0.020271867146781353\n",
      "44  loss: 0.005301395568431632\n",
      "45  loss: 0.003797435131175605\n",
      "46  loss: 0.017810226110402835\n",
      "47  loss: 0.0016986905926647537\n",
      "48  loss: 0.001679031820788157\n",
      "49  loss: 0.1064331195825641\n",
      "50  loss: 0.005891557100683515\n",
      "51  loss: 0.008758936546569257\n",
      "52  loss: 0.006270415376005225\n",
      "53  loss: 0.005490076083523258\n",
      "54  loss: 0.005405076542305068\n",
      "55  loss: 0.005345956065341848\n",
      "56  loss: 0.00505286454788313\n",
      "57  loss: 0.0047616204516545526\n",
      "58  loss: 0.004621678672488833\n",
      "59  loss: 0.004418704757277636\n",
      "60  loss: 0.004346107241725396\n",
      "61  loss: 0.00435006898729153\n",
      "62  loss: 0.004398242826598492\n",
      "63  loss: 0.004482517032474029\n",
      "64  loss: 0.004581865611260938\n",
      "65  loss: 0.004760737690319902\n",
      "66  loss: 0.004806040832308086\n",
      "67  loss: 0.0048634192168926236\n",
      "68  loss: 0.004915435097301929\n",
      "69  loss: 0.004955891850633042\n",
      "70  loss: 0.005036396583956549\n",
      "71  loss: 0.004963184574256774\n",
      "72  loss: 0.004924070720190164\n",
      "73  loss: 0.00486210550193995\n",
      "74  loss: 0.0047771277432020875\n",
      "75  loss: 0.004777312637576605\n",
      "76  loss: 0.004617543875287848\n",
      "77  loss: 0.004450245557085176\n",
      "78  loss: 0.0043997098907459274\n",
      "79  loss: 0.004342058613234636\n",
      "80  loss: 0.004279534626864138\n",
      "81  loss: 0.00413839309622599\n",
      "82  loss: 0.004054943885438436\n",
      "83  loss: 0.003970721924413931\n",
      "84  loss: 0.003923487558224573\n",
      "85  loss: 0.0038584866465239407\n",
      "86  loss: 0.0038131227952422123\n",
      "87  loss: 0.003765120646625115\n",
      "88  loss: 0.0037389051798919237\n",
      "89  loss: 0.0037053640294197237\n",
      "90  loss: 0.0036837560774986215\n",
      "91  loss: 0.0036634894854628394\n",
      "92  loss: 0.0036482650310222043\n",
      "93  loss: 0.003691973956087922\n",
      "94  loss: 0.0036343082158551724\n",
      "95  loss: 0.003634185437486621\n",
      "96  loss: 0.0036072910841780394\n",
      "97  loss: 0.00360979624773993\n",
      "98  loss: 0.003589275278405222\n",
      "99  loss: 0.0035199177179133525\n"
     ]
    }
   ],
   "source": [
    "epochs = 100\n",
    "hist = model.train(x_train, y_train, epochs, True)"
   ]
  },
  {
   "cell_type": "code",
   "execution_count": 35,
   "metadata": {},
   "outputs": [
    {
     "data": {
      "text/plain": [
       "[<matplotlib.lines.Line2D at 0x7f9faa064970>]"
      ]
     },
     "execution_count": 35,
     "metadata": {},
     "output_type": "execute_result"
    },
    {
     "data": {
      "image/png": "[encoded data removed]",
      "text/plain": [
       "<Figure size 640x480 with 1 Axes>"
      ]
     },
     "metadata": {},
     "output_type": "display_data"
    }
   ],
   "source": [
    "plt.plot(range(len(hist)), hist)"
   ]
  },
  {
   "cell_type": "code",
   "execution_count": 36,
   "metadata": {},
   "outputs": [
    {
     "data": {
      "text/plain": [
       "<matplotlib.legend.Legend at 0x7f9faa0f42e0>"
      ]
     },
     "execution_count": 36,
     "metadata": {},
     "output_type": "execute_result"
    },
    {
     "data": {
      "image/png": "[encoded data removed]",
      "text/plain": [
       "<Figure size 640x480 with 1 Axes>"
      ]
     },
     "metadata": {},
     "output_type": "display_data"
    }
   ],
   "source": [
    "start = -3  # Define the start of the range for the test data\n",
    "end = 3  # Define the end of the range for the test data\n",
    "x_test = np.linspace(start, end, 1000).reshape(-1, 1, 1)  # Generate 1000 evenly spaced values between start and end, and reshape them into a 3D array with shape (-1, 1, 1)\n",
    "y_test = (x_test ** 2).reshape(-1, 1)  # Calculate the square of each value in x_test to create the y_test dataset and reshape it into a 2D array with shape (-1, 1)\n",
    "y_pred = model.inference(x_test).reshape(-1, 1)  # Use the model to predict the output for the test data and reshape the output into a 2D array with shape (-1, 1)\n",
    "\n",
    "plt.plot(x_test.reshape(-1, 1), y_test, label='truth val')  # Plot the true values of the test data\n",
    "plt.legend()  # Add a legend to the plot\n",
    "plt.plot(x_test.reshape(-1, 1), y_pred, label='pred val')  # Plot the predicted values of the test data\n",
    "plt.legend()  # Add a legend to the plot\n"
   ]
  }
 ],
 "metadata": {
  "kernelspec": {
   "display_name": "ci",
   "language": "python",
   "name": "python3"
  },
  "language_info": {
   "codemirror_mode": {
    "name": "ipython",
    "version": 3
   },
   "file_extension": ".py",
   "mimetype": "text/x-python",
   "name": "python",
   "nbconvert_exporter": "python",
   "pygments_lexer": "ipython3",
   "version": "3.10.12"
  }
 },
 "nbformat": 4,
 "nbformat_minor": 2
}
